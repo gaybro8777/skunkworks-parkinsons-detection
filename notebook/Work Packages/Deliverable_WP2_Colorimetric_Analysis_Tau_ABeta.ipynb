{
 "cells": [
  {
   "cell_type": "markdown",
   "id": "2efa40ef-ef0b-4637-af3e-3cfb134cd2f9",
   "metadata": {},
   "source": [
    "# Workbook Summary\n",
    "\n",
    "This workbook analyses the statsitics from Tau and ABeta extracts, and formed part of the second WP of C319.  It is not intended for either demonstration or use with synthetic data, but will generate the reports found in the technical report given the segmentations produced by the other WP2 workbooks."
   ]
  },
  {
   "cell_type": "code",
   "execution_count": null,
   "id": "da8dd3df-022b-4920-b04b-9d560b651129",
   "metadata": {},
   "outputs": [],
   "source": [
    "%matplotlib widget\n",
    "import matplotlib\n",
    "from matplotlib import pyplot as plt\n",
    "import numpy as np\n",
    "import os\n",
    "os.chdir(\"../..\")\n",
    "from polygeist.utils import get_case_and_slide, load_jsons_from_directory, load_filenames_and_generate_conditions"
   ]
  },
  {
   "cell_type": "code",
   "execution_count": null,
   "id": "2d0448c4-ea40-42c2-949c-70b0bc29ebb9",
   "metadata": {},
   "outputs": [],
   "source": [
    "config = {\n",
    "    \"dump_path\": \"/run/media/brad/ScratchM2/ABeta_label_dump_64/\",\n",
    "    \"case_files\": \"Data/filenames/abeta_files.txt\",\n",
    "}"
   ]
  },
  {
   "cell_type": "code",
   "execution_count": null,
   "id": "bf5a3c8a-61c9-4004-a445-65f5235de799",
   "metadata": {},
   "outputs": [],
   "source": [
    "case_conditions = load_filenames_and_generate_conditions(config[\"case_files\"])"
   ]
  },
  {
   "cell_type": "code",
   "execution_count": null,
   "id": "9eeaac50-8f75-4d9e-b5fe-b08e15abd130",
   "metadata": {},
   "outputs": [],
   "source": [
    "# Labels used for each condition produced by load_filenames_and_generate_conditions\n",
    "CONTROL = 'C'\n",
    "AD = 'AD'\n",
    "PD = 'PD'\n",
    "MSA = 'MSA'\n",
    "def slide_statistics_for_slide(jsons, slide_filter=None, norm=True):\n",
    "    control = []\n",
    "    ad = []\n",
    "    pd = []\n",
    "    msa = []\n",
    "    for file in jsons.keys():\n",
    "        case, slide = get_case_and_slide(file)\n",
    "        if slide_filter:\n",
    "            if slide != slide_filter:\n",
    "                continue\n",
    "        arr = np.array(jsons[file]['densities'])\n",
    "        n = 1 if not norm else arr.shape[0] * arr.shape[1]\n",
    "        h = jsons[file]['roi_count'] / n\n",
    "        if case in case_conditions:\n",
    "            condition = case_conditions[case]\n",
    "            if condition == CONTROL:\n",
    "                control.append(h)\n",
    "            elif condition == AD:\n",
    "                ad.append(h)\n",
    "            elif condition == PD:\n",
    "                pd.append(h)\n",
    "            else:\n",
    "                msa.append(h)\n",
    "        else:\n",
    "            print(f\"Case not found {file}\")\n",
    "    return control, ad, pd, msa"
   ]
  },
  {
   "cell_type": "code",
   "execution_count": null,
   "id": "83a77665-dc53-4a69-909d-7a5ce833e0c4",
   "metadata": {},
   "outputs": [],
   "source": [
    "def slide_statistics_to_csv(jsons, filename):\n",
    "    # Create a list to be writeen to file\n",
    "    csv_table = [\"case, score, slide, condition\\n\"]\n",
    "    conditon_map = {\n",
    "        \"C\" : 0,\n",
    "        \"PD\": 1,\n",
    "        \"AD\": 2,\n",
    "        \"MSA\":3,\n",
    "    }\n",
    "    for file in jsons.keys():\n",
    "        case, slide = get_case_and_slide(file)\n",
    "        condition = case_conditions[case]\n",
    "        row = f\"{case}, {jsons[file]['roi_count']}, {slide}, {conditon_map[condition]}\\n\"\n",
    "        csv_table.append(row)\n",
    "    \n",
    "    with open(filename, 'w') as f:\n",
    "        for r in csv_table:\n",
    "            f.write(r)"
   ]
  },
  {
   "cell_type": "code",
   "execution_count": null,
   "id": "caebc8d2-245d-41ef-8ed0-5cdf4e72d7dd",
   "metadata": {},
   "outputs": [],
   "source": [
    "jsons = load_jsons_from_directory(config['dump_path'])"
   ]
  },
  {
   "cell_type": "code",
   "execution_count": null,
   "id": "19afcad3-6ac8-4da8-b790-9b73a17ae60d",
   "metadata": {},
   "outputs": [],
   "source": [
    "norm_rois = True\n",
    "control, ad, pd, msa = slide_statistics_for_slide(jsons, slide_filter=None, norm=norm_rois)\n",
    "fig, ax = plt.subplots()\n",
    "ax.boxplot([control, pd, ad], showfliers=False)\n",
    "ax.set_xticks([1, 2, 3], ['Control', 'PD', 'AD+PD'])\n",
    "set_labels(ax, \"Pathology Condition\", f\"Quartiles of ROI {'Counts' if not norm_rois else 'Proportions'}\", \"\")\n",
    "plt.show()"
   ]
  },
  {
   "cell_type": "code",
   "execution_count": null,
   "id": "fc50ff76-e627-4557-b3de-aeb30cf5af05",
   "metadata": {},
   "outputs": [],
   "source": [
    "slides_abeta = (1, 3, 4, 5, 7, 9, 10, 12, 14, 15)"
   ]
  },
  {
   "cell_type": "code",
   "execution_count": null,
   "id": "8f2085a7-b4a9-4440-a200-0ebf50a575a3",
   "metadata": {},
   "outputs": [],
   "source": [
    "# subplots\n",
    "fig, axs = plt.subplots(2, 5, sharey=True)\n",
    "for i, ind in enumerate(slides_abeta):\n",
    "    control, ad, pd, msa = slide_statistics_for_slide(jsons, slide_filter=ind, norm=norm_rois)\n",
    "    ax = axs[int(i / 5)][i % 5]\n",
    "    ax.boxplot([control, pd, ad], showfliers=False)\n",
    "    ax.set_xticks([1, 2, 3], ['Control', 'PD', 'AD+PD'])\n",
    "    ax.set_title(f\"Slide {ind}\")\n",
    "plt.savefig(\"pathology_by_slide.svg\")\n",
    "plt.show()"
   ]
  },
  {
   "cell_type": "code",
   "execution_count": null,
   "id": "9cb2a2c2-d02b-45af-845e-5ef3f45ca396",
   "metadata": {},
   "outputs": [],
   "source": [
    "# Write the CSV out to do stats in JASP.\n",
    "slide_statistics_to_csv(jsons, 'abeta_counts.csv')"
   ]
  },
  {
   "cell_type": "code",
   "execution_count": null,
   "id": "d9a32210-1c66-4c0b-8592-b99237120cea",
   "metadata": {},
   "outputs": [],
   "source": [
    "## TAU\n",
    "config = {\n",
    "    \"dump_path\": \"/run/media/brad/ScratchM2/Tau_dump_256_background_removed\",\n",
    "    \"case_files\": \"Data/filenames/tau_files.txt\",\n",
    "}"
   ]
  },
  {
   "cell_type": "code",
   "execution_count": null,
   "id": "8924441f-36dd-45fa-98cf-e98d6fe72b39",
   "metadata": {},
   "outputs": [],
   "source": [
    "case_conditions = load_filenames_and_generate_conditions(config[\"case_files\"])"
   ]
  },
  {
   "cell_type": "code",
   "execution_count": null,
   "id": "e8f3892e-4b23-49ad-9301-84f503c97174",
   "metadata": {},
   "outputs": [],
   "source": [
    "jsons = load_jsons_from_directory(config['dump_path'])"
   ]
  },
  {
   "cell_type": "code",
   "execution_count": null,
   "id": "69bf3d1c-9315-47f9-bf50-03ed78843f14",
   "metadata": {},
   "outputs": [],
   "source": [
    "norm_rois = True\n",
    "control, ad, pd, _ = slide_statistics_for_slide(jsons, slide_filter=None, norm=norm_rois)\n",
    "fig, ax = plt.subplots()\n",
    "ax.boxplot([control, pd, ad], showfliers=False)\n",
    "ax.set_xticks([1, 2, 3], ['Control', 'PD', 'AD+PD'])\n",
    "set_labels(ax, \"Pathology Condition\", f\"Quartiles of ROI {'Counts' if not norm_rois else 'Proportions'}\", \"\")\n",
    "plt.show()"
   ]
  },
  {
   "cell_type": "code",
   "execution_count": null,
   "id": "3feefc97-0cd3-4b5b-b9a5-9b464045b037",
   "metadata": {},
   "outputs": [],
   "source": [
    "slides_tau = (1, 4, 5, 9, 10, 12, 13, 15, 16)"
   ]
  },
  {
   "cell_type": "code",
   "execution_count": null,
   "id": "03b47266-0f40-4e31-b2e0-7ee81d51fe19",
   "metadata": {},
   "outputs": [],
   "source": [
    "# subplots\n",
    "fig, axs = plt.subplots(2, 5, sharey=True)\n",
    "for i, ind in enumerate(slides_tau):\n",
    "    control, ad, pd, msa = slide_statistics_for_slide(jsons, slide_filter=ind, norm=norm_rois)\n",
    "    ax = axs[int(i / 5)][i % 5]\n",
    "    ax.boxplot([control, pd, ad], showfliers=False)\n",
    "    ax.set_xticks([1, 2, 3], ['Control', 'PD', 'AD+PD'])\n",
    "    ax.set_title(f\"Slide {ind}\")\n",
    "plt.show()"
   ]
  },
  {
   "cell_type": "code",
   "execution_count": null,
   "id": "05a6480b-d09f-4f32-b55a-6f9e3b3af968",
   "metadata": {},
   "outputs": [],
   "source": [
    "# Write the CSV out to do stats in JASP.\n",
    "slide_statistics_to_csv(jsons, 'tau_counts.csv')"
   ]
  }
 ],
 "metadata": {
  "kernelspec": {
   "display_name": "Python 3 (ipykernel)",
   "language": "python",
   "name": "python3"
  },
  "language_info": {
   "codemirror_mode": {
    "name": "ipython",
    "version": 3
   },
   "file_extension": ".py",
   "mimetype": "text/x-python",
   "name": "python",
   "nbconvert_exporter": "python",
   "pygments_lexer": "ipython3",
   "version": "3.10.9"
  }
 },
 "nbformat": 4,
 "nbformat_minor": 5
}
